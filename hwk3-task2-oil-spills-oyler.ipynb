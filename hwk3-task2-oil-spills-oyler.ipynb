{
 "cells": [
  {
   "cell_type": "code",
   "execution_count": 1,
   "metadata": {
    "deletable": false,
    "editable": false
   },
   "outputs": [],
   "source": [
    "# Initialize Otter\n",
    "import otter\n",
    "grader = otter.Notebook(\"hwk3-task1-spills.ipynb\")"
   ]
  },
  {
   "cell_type": "markdown",
   "metadata": {},
   "source": [
    "# Task 1: Visualizing oil spills in NY State\n",
    "\n",
    "## Instructions\n",
    "\n",
    "- First, update the following cell to have a link to *your* Homework 3 GitHub repository:\n",
    "\n",
    "**UPDATE THIS LINK**\n",
    "https://github.com/haylee360/eds220-hwk3\n",
    "\n",
    "\n",
    "- Review the [complete rubric for this task](https://docs.google.com/document/d/1Ce4EO3MEHW5uLks4x8BECWlkim2bcmxB4f8Qo4z26z8/edit?usp=sharing) before starting.\n",
    "\n",
    "- **Meaningful commits should be made every time you finish a major step.** We'll check your repository and view the commit history.\n",
    "\n",
    "- Comment mindfully in a way that enriches your code. Comments should follow best practices.\n",
    "\n",
    "- **Do not update the top cell with the `otter` import**, this is used internally for grading.\n",
    "\n",
    "- Delete all the comments initially included in this notebook (ex: `# Your code here`).\n",
    "\n",
    "\n",
    "## About the data\n",
    "In this task you will use two datsets:\n",
    "\n",
    "### First dataset: oil spills data\n",
    "\n",
    "The first dataset contains information about [spilling incidents in the state of New York](https://data.ny.gov/Energy-Environment/Spill-Incidents/u44d-k5fk). \n",
    "You can find extra information and metadata for this dataset in the `NYSDEC_SpillIncidents_Overview.pdf` and `NYSDEC_SpillIncidents_DataDictionary.pdf` documents available at the portal.\n",
    "\n",
    "### Second dataset: TIGER shapefile\n",
    "\n",
    "The second dataset is the [the 2023 Counties (and equivalent) TIGER shapefile](https://www.census.gov/geographies/mapping-files/time-series/geo/tiger-line-file.2022.html#list-tab-790442341) from the Census Bureau. You can check the [metadata for all the TIGER shapefiles here](https://www.census.gov/programs-surveys/geography/technical-documentation/complete-technical-documentation/tiger-geo-line.html). "
   ]
  },
  {
   "cell_type": "markdown",
   "metadata": {},
   "source": [
    "\n",
    "## 1. File management\n",
    "a. Create a `data/` directory inside your `eds220-hwk3` directory. If you download any data, it should be transferred into this folder. \n",
    "\n",
    "b. Add the `data/` directory to your `.gitignore` file and push your changes. This is IMPORTANT: the datasets we'll be working with are large and they will most likely jam your `git` workflow if you try to push them. Your `data/` directory should not be in your GitHub repository."
   ]
  },
  {
   "cell_type": "markdown",
   "metadata": {},
   "source": [
    "## 2. Datasets description\n",
    "Read the metadata for both datsets and write a description about each one. Indicate the date sources and date of access.\n"
   ]
  },
  {
   "cell_type": "markdown",
   "metadata": {},
   "source": [
    "### Spills\n",
    "The first dataset is from the New York State government and it details information about spills of petroleum and other hazardous materials. By law, spillers are required to report basic information about the spill such as facility type, spill date and time, location, quantity, material, and more. This is to help streamline the clean-up process and mitigate as much damage as possible. \n",
    "- The data source is New York State Department of Environmental Conservation\n",
    "- Date of access: 11/1/24\n",
    "\n",
    "\n",
    "### Counties\n",
    "The second dataset is a TIGER shape file of US county boundaries from 2023. This is geospatial data meant to help us map our oil spills onto our area of interest. \n",
    "- The data source is the US Census bureau\n",
    "- Date of access: 11/1/24"
   ]
  },
  {
   "cell_type": "markdown",
   "metadata": {},
   "source": [
    "## 3. Import libraries"
   ]
  },
  {
   "cell_type": "code",
   "execution_count": 2,
   "metadata": {},
   "outputs": [],
   "source": [
    "# Import libraries\n",
    "import pandas as pd\n",
    "import geopandas as gpd\n",
    "import numpy as np\n",
    "import matplotlib.pyplot as plt\n",
    "import os"
   ]
  },
  {
   "cell_type": "markdown",
   "metadata": {},
   "source": [
    "## 4. Import data \n",
    "In the next cell:\n",
    "\n",
    "- Import the NY spills data as a variable named `spills`. \n",
    "- Import the US counties data as a variable named `counties`.\n",
    "\n",
    "If you are using file paths to access the data, these should be constructed using the `os` package."
   ]
  },
  {
   "cell_type": "code",
   "execution_count": 3,
   "metadata": {},
   "outputs": [],
   "source": [
    "# Generate file paths for the data\n",
    "fp_spills = os.path.join('data', 'Spill_Incidents_20241101.csv')\n",
    "fp_counties = os.path.join('data', 'tl_2023_us_county', 'tl_2023_us_county.shp')"
   ]
  },
  {
   "cell_type": "code",
   "execution_count": 4,
   "metadata": {},
   "outputs": [
    {
     "name": "stderr",
     "output_type": "stream",
     "text": [
      "ERROR 1: PROJ: proj_create_from_database: Open of /opt/anaconda3/share/proj failed\n"
     ]
    }
   ],
   "source": [
    "# Import oil spill and county data\n",
    "spills = pd.read_csv(fp_spills)\n",
    "counties = gpd.read_file(fp_counties)"
   ]
  },
  {
   "cell_type": "markdown",
   "metadata": {},
   "source": [
    "## 5. Prepare spills data\n",
    "\n",
    "This section refers to the `spills` dataframe. \n",
    "Check the outputs carefully, they will give you information you will need to use in the next exercises.\n",
    "\n",
    "### 5.A. Exploration\n",
    "\n",
    "In the next cells:\n",
    "\n",
    "a. Check the dataframe's head.\n",
    "\n",
    "b. Check the data types of the columns.\n",
    "\n",
    "c. Check the unique values in the `material_family` column.\n",
    "\n",
    "d. Check the unique values in the `county` column.\n",
    "\n",
    "You can add other cells for preliminary data exploration."
   ]
  },
  {
   "cell_type": "code",
   "execution_count": 5,
   "metadata": {},
   "outputs": [
    {
     "data": {
      "text/html": [
       "<div>\n",
       "<style scoped>\n",
       "    .dataframe tbody tr th:only-of-type {\n",
       "        vertical-align: middle;\n",
       "    }\n",
       "\n",
       "    .dataframe tbody tr th {\n",
       "        vertical-align: top;\n",
       "    }\n",
       "\n",
       "    .dataframe thead th {\n",
       "        text-align: right;\n",
       "    }\n",
       "</style>\n",
       "<table border=\"1\" class=\"dataframe\">\n",
       "  <thead>\n",
       "    <tr style=\"text-align: right;\">\n",
       "      <th></th>\n",
       "      <th>Spill Number</th>\n",
       "      <th>Program Facility Name</th>\n",
       "      <th>Street 1</th>\n",
       "      <th>Street 2</th>\n",
       "      <th>Locality</th>\n",
       "      <th>County</th>\n",
       "      <th>ZIP Code</th>\n",
       "      <th>SWIS Code</th>\n",
       "      <th>DEC Region</th>\n",
       "      <th>Spill Date</th>\n",
       "      <th>Received Date</th>\n",
       "      <th>Contributing Factor</th>\n",
       "      <th>Waterbody</th>\n",
       "      <th>Source</th>\n",
       "      <th>Close Date</th>\n",
       "      <th>Material Name</th>\n",
       "      <th>Material Family</th>\n",
       "      <th>Quantity</th>\n",
       "      <th>Units</th>\n",
       "      <th>Recovered</th>\n",
       "    </tr>\n",
       "  </thead>\n",
       "  <tbody>\n",
       "    <tr>\n",
       "      <th>0</th>\n",
       "      <td>107132</td>\n",
       "      <td>MH 864</td>\n",
       "      <td>RT 119/MILLWOOD RD</td>\n",
       "      <td>NaN</td>\n",
       "      <td>ELMSFORD</td>\n",
       "      <td>Westchester</td>\n",
       "      <td>NaN</td>\n",
       "      <td>6000</td>\n",
       "      <td>3</td>\n",
       "      <td>10/10/2001</td>\n",
       "      <td>10/10/2001</td>\n",
       "      <td>Unknown</td>\n",
       "      <td>NaN</td>\n",
       "      <td>Unknown</td>\n",
       "      <td>10/15/2001</td>\n",
       "      <td>unknown material</td>\n",
       "      <td>Other</td>\n",
       "      <td>10.0</td>\n",
       "      <td>Gallons</td>\n",
       "      <td>0.0</td>\n",
       "    </tr>\n",
       "    <tr>\n",
       "      <th>1</th>\n",
       "      <td>405586</td>\n",
       "      <td>BOWRY BAY</td>\n",
       "      <td>WATER POLL CONTROL</td>\n",
       "      <td>NaN</td>\n",
       "      <td>QUEENS</td>\n",
       "      <td>Queens</td>\n",
       "      <td>NaN</td>\n",
       "      <td>4101</td>\n",
       "      <td>2</td>\n",
       "      <td>08/21/2004</td>\n",
       "      <td>08/21/2004</td>\n",
       "      <td>Other</td>\n",
       "      <td>EAST RIVER</td>\n",
       "      <td>Unknown</td>\n",
       "      <td>09/17/2004</td>\n",
       "      <td>raw sewage</td>\n",
       "      <td>Other</td>\n",
       "      <td>0.0</td>\n",
       "      <td>NaN</td>\n",
       "      <td>0.0</td>\n",
       "    </tr>\n",
       "    <tr>\n",
       "      <th>2</th>\n",
       "      <td>405586</td>\n",
       "      <td>BOWRY BAY</td>\n",
       "      <td>WATER POLL CONTROL</td>\n",
       "      <td>NaN</td>\n",
       "      <td>QUEENS</td>\n",
       "      <td>Queens</td>\n",
       "      <td>NaN</td>\n",
       "      <td>4101</td>\n",
       "      <td>2</td>\n",
       "      <td>08/21/2004</td>\n",
       "      <td>08/21/2004</td>\n",
       "      <td>Other</td>\n",
       "      <td>EAST RIVER</td>\n",
       "      <td>Unknown</td>\n",
       "      <td>09/17/2004</td>\n",
       "      <td>raw sewage</td>\n",
       "      <td>Other</td>\n",
       "      <td>0.0</td>\n",
       "      <td>Pounds</td>\n",
       "      <td>0.0</td>\n",
       "    </tr>\n",
       "    <tr>\n",
       "      <th>3</th>\n",
       "      <td>204667</td>\n",
       "      <td>POLE 16091</td>\n",
       "      <td>GRACE AVE/BURKE AVE</td>\n",
       "      <td>NaN</td>\n",
       "      <td>BRONX</td>\n",
       "      <td>Bronx</td>\n",
       "      <td>NaN</td>\n",
       "      <td>301</td>\n",
       "      <td>2</td>\n",
       "      <td>08/02/2002</td>\n",
       "      <td>08/02/2002</td>\n",
       "      <td>Equipment Failure</td>\n",
       "      <td>NaN</td>\n",
       "      <td>Commercial/Industrial</td>\n",
       "      <td>10/28/2002</td>\n",
       "      <td>transformer oil</td>\n",
       "      <td>Petroleum</td>\n",
       "      <td>1.0</td>\n",
       "      <td>Gallons</td>\n",
       "      <td>0.0</td>\n",
       "    </tr>\n",
       "    <tr>\n",
       "      <th>4</th>\n",
       "      <td>210559</td>\n",
       "      <td>POLE ON</td>\n",
       "      <td>FERDALE LOMIS RD / RT 52</td>\n",
       "      <td>NaN</td>\n",
       "      <td>LIBERTY</td>\n",
       "      <td>Sullivan</td>\n",
       "      <td>NaN</td>\n",
       "      <td>5336</td>\n",
       "      <td>3</td>\n",
       "      <td>01/20/2003</td>\n",
       "      <td>01/20/2003</td>\n",
       "      <td>Traffic Accident</td>\n",
       "      <td>NaN</td>\n",
       "      <td>Commercial/Industrial</td>\n",
       "      <td>01/22/2003</td>\n",
       "      <td>transformer oil</td>\n",
       "      <td>Petroleum</td>\n",
       "      <td>6.0</td>\n",
       "      <td>Gallons</td>\n",
       "      <td>6.0</td>\n",
       "    </tr>\n",
       "  </tbody>\n",
       "</table>\n",
       "</div>"
      ],
      "text/plain": [
       "   Spill Number Program Facility Name                  Street 1 Street 2  \\\n",
       "0        107132                MH 864        RT 119/MILLWOOD RD      NaN   \n",
       "1        405586             BOWRY BAY        WATER POLL CONTROL      NaN   \n",
       "2        405586             BOWRY BAY        WATER POLL CONTROL      NaN   \n",
       "3        204667            POLE 16091       GRACE AVE/BURKE AVE      NaN   \n",
       "4        210559               POLE ON  FERDALE LOMIS RD / RT 52      NaN   \n",
       "\n",
       "   Locality       County ZIP Code  SWIS Code  DEC Region  Spill Date  \\\n",
       "0  ELMSFORD  Westchester      NaN       6000           3  10/10/2001   \n",
       "1    QUEENS       Queens      NaN       4101           2  08/21/2004   \n",
       "2    QUEENS       Queens      NaN       4101           2  08/21/2004   \n",
       "3     BRONX        Bronx      NaN        301           2  08/02/2002   \n",
       "4   LIBERTY     Sullivan      NaN       5336           3  01/20/2003   \n",
       "\n",
       "  Received Date Contributing Factor   Waterbody                 Source  \\\n",
       "0    10/10/2001             Unknown         NaN                Unknown   \n",
       "1    08/21/2004               Other  EAST RIVER                Unknown   \n",
       "2    08/21/2004               Other  EAST RIVER                Unknown   \n",
       "3    08/02/2002   Equipment Failure         NaN  Commercial/Industrial   \n",
       "4    01/20/2003    Traffic Accident         NaN  Commercial/Industrial   \n",
       "\n",
       "   Close Date     Material Name Material Family  Quantity    Units  Recovered  \n",
       "0  10/15/2001  unknown material           Other      10.0  Gallons        0.0  \n",
       "1  09/17/2004        raw sewage           Other       0.0      NaN        0.0  \n",
       "2  09/17/2004        raw sewage           Other       0.0   Pounds        0.0  \n",
       "3  10/28/2002   transformer oil       Petroleum       1.0  Gallons        0.0  \n",
       "4  01/22/2003   transformer oil       Petroleum       6.0  Gallons        6.0  "
      ]
     },
     "execution_count": 5,
     "metadata": {},
     "output_type": "execute_result"
    }
   ],
   "source": [
    "# a. \n",
    "# View the first five rows of spills\n",
    "spills.head()"
   ]
  },
  {
   "cell_type": "code",
   "execution_count": 6,
   "metadata": {},
   "outputs": [
    {
     "data": {
      "text/plain": [
       "Spill Number               int64\n",
       "Program Facility Name     object\n",
       "Street 1                  object\n",
       "Street 2                  object\n",
       "Locality                  object\n",
       "County                    object\n",
       "ZIP Code                  object\n",
       "SWIS Code                  int64\n",
       "DEC Region                 int64\n",
       "Spill Date                object\n",
       "Received Date             object\n",
       "Contributing Factor       object\n",
       "Waterbody                 object\n",
       "Source                    object\n",
       "Close Date                object\n",
       "Material Name             object\n",
       "Material Family           object\n",
       "Quantity                 float64\n",
       "Units                     object\n",
       "Recovered                float64\n",
       "dtype: object"
      ]
     },
     "execution_count": 6,
     "metadata": {},
     "output_type": "execute_result"
    }
   ],
   "source": [
    "# b.\n",
    "# View the data types of each column in spills\n",
    "spills.dtypes"
   ]
  },
  {
   "cell_type": "code",
   "execution_count": 7,
   "metadata": {},
   "outputs": [
    {
     "data": {
      "text/plain": [
       "array(['Other', 'Petroleum', 'Hazardous Material', 'Oxygenates'],\n",
       "      dtype=object)"
      ]
     },
     "execution_count": 7,
     "metadata": {},
     "output_type": "execute_result"
    }
   ],
   "source": [
    "# c. \n",
    "# Check unique values in material family\n",
    "spills['Material Family'].unique()"
   ]
  },
  {
   "cell_type": "code",
   "execution_count": 8,
   "metadata": {},
   "outputs": [
    {
     "data": {
      "text/plain": [
       "array(['Westchester', 'Queens', 'Bronx', 'Sullivan', 'Cortland',\n",
       "       'New York', 'Ulster', 'Kings', 'Orange', 'Dutchess', 'Onondaga',\n",
       "       'Saratoga', 'Cayuga', 'Oswego', 'Warren', 'Niagara', 'Rockland',\n",
       "       'Nassau', 'Jefferson', 'Schenectady', 'Albany', 'Monroe',\n",
       "       'Schuyler', 'St Lawrence', 'Richmond', 'Clinton', 'Lewis', 'Essex',\n",
       "       'Chenango', 'Erie', 'Livingston', 'Wayne', 'Suffolk', 'Orleans',\n",
       "       'Ontario', 'Genesee', 'Otsego', 'Tompkins', 'Madison', 'Chemung',\n",
       "       'Seneca', 'Oneida', 'Broome', 'Hamilton', 'Washington', 'Franklin',\n",
       "       'Columbia', 'Fulton', 'Herkimer', 'Schoharie', 'Rensselaer',\n",
       "       'Montgomery', 'Putnam', 'Delaware', 'New Jersey - Region 2',\n",
       "       'Steuben', 'Tioga', 'Chautauqua', 'Cattaraugus', 'Wyoming',\n",
       "       'Yates', 'Greene', 'Pennsylvania - Region 9', 'Allegany',\n",
       "       'New Jersey - Region 3 (N)', 'Cattaraugus Indian Reservation',\n",
       "       'New Jersey - Region 3 (T)', 'Canada - Region 6',\n",
       "       'Canada - Region 9', 'Pennsylvania - Region 8',\n",
       "       'Vermont - Region 5 (R)', 'Vermont - Region 4',\n",
       "       'Connecticut - Region 3 (N)', 'Pennsylvania - Region 3',\n",
       "       'Tuscarora Indian Reservation', 'Connecticut - Region 4',\n",
       "       'Connecticut - Region 3 (T)', 'Massachusetts - Region 4',\n",
       "       'Connecticut - Region 1', 'Canada - Region 8',\n",
       "       'Oil Springs Indian Reservation', 'Canada - Region 5',\n",
       "       'Poospatuck Indian Reservation', 'Onondaga Indian Reservation',\n",
       "       'Shinnecock Indian Reservation',\n",
       "       'St. Regis Indian Reservation - Region 5',\n",
       "       'Pennsylvania - Region 7'], dtype=object)"
      ]
     },
     "execution_count": 8,
     "metadata": {},
     "output_type": "execute_result"
    }
   ],
   "source": [
    "# d. \n",
    "# Check unique values in county\n",
    "spills['County'].unique()"
   ]
  },
  {
   "cell_type": "code",
   "execution_count": 9,
   "metadata": {
    "tags": []
   },
   "outputs": [
    {
     "data": {
      "text/plain": [
       "Spill Number                  0\n",
       "Program Facility Name         6\n",
       "Street 1                    132\n",
       "Street 2                 510022\n",
       "Locality                   1127\n",
       "County                        0\n",
       "ZIP Code                 499955\n",
       "SWIS Code                     0\n",
       "DEC Region                    0\n",
       "Spill Date                  151\n",
       "Received Date               477\n",
       "Contributing Factor           0\n",
       "Waterbody                506097\n",
       "Source                        0\n",
       "Close Date                11434\n",
       "Material Name                 0\n",
       "Material Family               0\n",
       "Quantity                      0\n",
       "Units                    110268\n",
       "Recovered                     0\n",
       "dtype: int64"
      ]
     },
     "execution_count": 9,
     "metadata": {},
     "output_type": "execute_result"
    }
   ],
   "source": [
    "# Check the total NAs by variable\n",
    "spills.isna().sum()"
   ]
  },
  {
   "cell_type": "markdown",
   "metadata": {
    "deletable": false,
    "editable": false
   },
   "source": [
    "<!-- BEGIN QUESTION -->\n",
    "\n",
    "f. Use the next markdown cell to explain what information you obtained from the preliminary exploration. Use complete sentences."
   ]
  },
  {
   "cell_type": "markdown",
   "metadata": {},
   "source": [
    "This preliminary exploration gave me information about the different variables in the spills data frame and what the type of each variable was. I also explored the NA count in each variable and saw that there is a lot of missing data in the zip code, waterbody, and units variables. Lastly, I checked the unique values of the material family and county to find there are only 4 unique materials across 87 counties. "
   ]
  },
  {
   "cell_type": "markdown",
   "metadata": {
    "deletable": false,
    "editable": false
   },
   "source": [
    "<!-- END QUESTION -->\n",
    "\n",
    "*Your answer here.*"
   ]
  },
  {
   "cell_type": "markdown",
   "metadata": {},
   "source": [
    "### 5.B. Cleaning\n",
    "a. Simplify column names as needed.\n",
    "\n",
    "b. Update column data types as needed. If you're not sure if any data types are needed at this point, you may come back later to this cell."
   ]
  },
  {
   "cell_type": "code",
   "execution_count": 10,
   "metadata": {},
   "outputs": [],
   "source": [
    "# a. \n",
    "# Simplify column names of spills\n",
    "spills.columns = (spills.columns\n",
    "                  .str.lower()\n",
    "                  .str.replace(' ','_')\n",
    "                )"
   ]
  },
  {
   "cell_type": "code",
   "execution_count": 11,
   "metadata": {},
   "outputs": [
    {
     "data": {
      "text/plain": [
       "spill_number                      int64\n",
       "program_facility_name            object\n",
       "street_1                         object\n",
       "street_2                         object\n",
       "locality                         object\n",
       "county                           object\n",
       "zip_code                         object\n",
       "swis_code                         int64\n",
       "dec_region                        int64\n",
       "spill_date               datetime64[ns]\n",
       "received_date            datetime64[ns]\n",
       "contributing_factor              object\n",
       "waterbody                        object\n",
       "source                           object\n",
       "close_date               datetime64[ns]\n",
       "material_name                    object\n",
       "material_family                  object\n",
       "quantity                        float64\n",
       "units                            object\n",
       "recovered                       float64\n",
       "dtype: object"
      ]
     },
     "execution_count": 11,
     "metadata": {},
     "output_type": "execute_result"
    }
   ],
   "source": [
    "# b. \n",
    "# Update column data types\n",
    "spills[['spill_date', 'received_date', 'close_date']] = spills[['spill_date', 'received_date', 'close_date']].apply(pd.to_datetime)\n",
    "spills.dtypes"
   ]
  },
  {
   "cell_type": "markdown",
   "metadata": {
    "tags": []
   },
   "source": [
    "### 5.C. Data selection\n",
    "\n",
    "a. Select data about petroleum spills that took place between January 1st 2023, and October 31st 2023 (including both dates). Store it in a variable named `petr_23`. The data selection should occur in a single line. You may add cells as needed."
   ]
  },
  {
   "cell_type": "code",
   "execution_count": 12,
   "metadata": {},
   "outputs": [],
   "source": [
    "# a. \n",
    "# Select the appropriate data range and filter to only petroleum spills\n",
    "petr_23 = spills[ (spills['spill_date'] >= '2023-01-01') & \n",
    "                 (spills['spill_date'] <= '2023-10-31') & \n",
    "                 (spills['material_family'] == 'Petroleum')]"
   ]
  },
  {
   "cell_type": "markdown",
   "metadata": {
    "deletable": false,
    "editable": false
   },
   "source": [
    "<!-- BEGIN QUESTION -->\n",
    "\n",
    "b. Use `print()` and f-strings to print messages verifying that `petr_23` only has data for 2023 and from January through October.\n",
    "HINT: [pandas.Series.dt.year](https://pandas.pydata.org/docs/reference/api/pandas.Series.dt.year.html) and [pandas.Series.dt.month](https://pandas.pydata.org/docs/reference/api/pandas.Series.dt.month.html)."
   ]
  },
  {
   "cell_type": "code",
   "execution_count": 13,
   "metadata": {
    "tags": []
   },
   "outputs": [
    {
     "name": "stdout",
     "output_type": "stream",
     "text": [
      "The only year included in petr_23 is [2023]\n",
      "The only months included in petr_23 are [ 1  2  3  4  5  6  7  8  9 10]\n"
     ]
    }
   ],
   "source": [
    "# b. \n",
    "# Write print statements to confirm the date filtering worked correctly\n",
    "print(f\"{'The only year included in petr_23 is '}{petr_23.spill_date.dt.year.unique()}\")\n",
    "print(f\"{'The only months included in petr_23 are '}{petr_23.spill_date.dt.month.sort_values().unique()}\")"
   ]
  },
  {
   "cell_type": "markdown",
   "metadata": {
    "deletable": false,
    "editable": false
   },
   "source": [
    "<!-- END QUESTION -->\n",
    "\n",
    "<!-- BEGIN QUESTION -->\n",
    "\n",
    "c. Write tests using `assert` to verify that `petr_23` only has data for petroleum spills."
   ]
  },
  {
   "cell_type": "code",
   "execution_count": 14,
   "metadata": {
    "tags": []
   },
   "outputs": [],
   "source": [
    "# c.\n",
    "# Test that the material filtering worked correctly\n",
    "assert petr_23['material_family'].unique() == 'Petroleum'"
   ]
  },
  {
   "cell_type": "markdown",
   "metadata": {
    "deletable": false,
    "editable": false
   },
   "source": [
    "<!-- END QUESTION -->\n",
    "\n",
    "### 5.D. Data aggregation\n",
    "\n",
    "Create new data frame named `spills_per_county` with the number of petroleum spills per county from January to October 2023 (i.e. use the `petr_23` dataframe).\n",
    "\n",
    "The resulting `spills_per_county` dataframe must be as follows:\n",
    "\n",
    "- Index: integer numbers starting from 0\n",
    "- Data frame has two columns only:\n",
    "    - Column one: county names, column name = `county`\n",
    "    - Column two: number of petroleum spills per county in 2023, column name = `n_spills`\n",
    "\n",
    "You may add cells if needed.\n"
   ]
  },
  {
   "cell_type": "code",
   "execution_count": 15,
   "metadata": {
    "tags": []
   },
   "outputs": [
    {
     "data": {
      "text/html": [
       "<div>\n",
       "<style scoped>\n",
       "    .dataframe tbody tr th:only-of-type {\n",
       "        vertical-align: middle;\n",
       "    }\n",
       "\n",
       "    .dataframe tbody tr th {\n",
       "        vertical-align: top;\n",
       "    }\n",
       "\n",
       "    .dataframe thead th {\n",
       "        text-align: right;\n",
       "    }\n",
       "</style>\n",
       "<table border=\"1\" class=\"dataframe\">\n",
       "  <thead>\n",
       "    <tr style=\"text-align: right;\">\n",
       "      <th></th>\n",
       "      <th>county</th>\n",
       "      <th>n_spills</th>\n",
       "    </tr>\n",
       "  </thead>\n",
       "  <tbody>\n",
       "    <tr>\n",
       "      <th>0</th>\n",
       "      <td>Albany</td>\n",
       "      <td>15293</td>\n",
       "    </tr>\n",
       "    <tr>\n",
       "      <th>1</th>\n",
       "      <td>Allegany</td>\n",
       "      <td>1698</td>\n",
       "    </tr>\n",
       "    <tr>\n",
       "      <th>2</th>\n",
       "      <td>Bronx</td>\n",
       "      <td>14843</td>\n",
       "    </tr>\n",
       "    <tr>\n",
       "      <th>3</th>\n",
       "      <td>Broome</td>\n",
       "      <td>6530</td>\n",
       "    </tr>\n",
       "    <tr>\n",
       "      <th>4</th>\n",
       "      <td>Canada - Region 5</td>\n",
       "      <td>1</td>\n",
       "    </tr>\n",
       "    <tr>\n",
       "      <th>...</th>\n",
       "      <td>...</td>\n",
       "      <td>...</td>\n",
       "    </tr>\n",
       "    <tr>\n",
       "      <th>82</th>\n",
       "      <td>Washington</td>\n",
       "      <td>3646</td>\n",
       "    </tr>\n",
       "    <tr>\n",
       "      <th>83</th>\n",
       "      <td>Wayne</td>\n",
       "      <td>3239</td>\n",
       "    </tr>\n",
       "    <tr>\n",
       "      <th>84</th>\n",
       "      <td>Westchester</td>\n",
       "      <td>55274</td>\n",
       "    </tr>\n",
       "    <tr>\n",
       "      <th>85</th>\n",
       "      <td>Wyoming</td>\n",
       "      <td>1427</td>\n",
       "    </tr>\n",
       "    <tr>\n",
       "      <th>86</th>\n",
       "      <td>Yates</td>\n",
       "      <td>954</td>\n",
       "    </tr>\n",
       "  </tbody>\n",
       "</table>\n",
       "<p>87 rows × 2 columns</p>\n",
       "</div>"
      ],
      "text/plain": [
       "               county  n_spills\n",
       "0              Albany     15293\n",
       "1            Allegany      1698\n",
       "2               Bronx     14843\n",
       "3              Broome      6530\n",
       "4   Canada - Region 5         1\n",
       "..                ...       ...\n",
       "82         Washington      3646\n",
       "83              Wayne      3239\n",
       "84        Westchester     55274\n",
       "85            Wyoming      1427\n",
       "86              Yates       954\n",
       "\n",
       "[87 rows x 2 columns]"
      ]
     },
     "execution_count": 15,
     "metadata": {},
     "output_type": "execute_result"
    }
   ],
   "source": [
    "# Find spills per county and store in separate dataframe\n",
    "spills_per_county = (pd.DataFrame(spills\n",
    "                                  .groupby('county')\n",
    "                                  .county\n",
    "                                  .count())\n",
    "                     .rename(columns={'county':'n_spills'})\n",
    "                     .reset_index()\n",
    "                    )\n",
    "spills_per_county"
   ]
  },
  {
   "cell_type": "markdown",
   "metadata": {},
   "source": [
    "## 6. Prepare counties data\n",
    "\n",
    "This section refers to the `counties` geo-dataframe. \n",
    "Check the outputs carefully, they will give you context about the next exercises.\n",
    "\n",
    "### 6.A. Exploration\n",
    "\n",
    "In the next cells:\n",
    "\n",
    "a. Check the geo-dataframe's head.\n",
    "\n",
    "b. Check the data types of the columns.\n",
    "\n",
    "c. Check the geo-dataframe's CRS.\n",
    "\n",
    "d. Plot the geo-dataframe.\n",
    "\n",
    "You can add any other cells of preliminary data exploration."
   ]
  },
  {
   "cell_type": "code",
   "execution_count": 16,
   "metadata": {},
   "outputs": [
    {
     "data": {
      "text/html": [
       "<div>\n",
       "<style scoped>\n",
       "    .dataframe tbody tr th:only-of-type {\n",
       "        vertical-align: middle;\n",
       "    }\n",
       "\n",
       "    .dataframe tbody tr th {\n",
       "        vertical-align: top;\n",
       "    }\n",
       "\n",
       "    .dataframe thead th {\n",
       "        text-align: right;\n",
       "    }\n",
       "</style>\n",
       "<table border=\"1\" class=\"dataframe\">\n",
       "  <thead>\n",
       "    <tr style=\"text-align: right;\">\n",
       "      <th></th>\n",
       "      <th>STATEFP</th>\n",
       "      <th>COUNTYFP</th>\n",
       "      <th>COUNTYNS</th>\n",
       "      <th>GEOID</th>\n",
       "      <th>GEOIDFQ</th>\n",
       "      <th>NAME</th>\n",
       "      <th>NAMELSAD</th>\n",
       "      <th>LSAD</th>\n",
       "      <th>CLASSFP</th>\n",
       "      <th>MTFCC</th>\n",
       "      <th>CSAFP</th>\n",
       "      <th>CBSAFP</th>\n",
       "      <th>METDIVFP</th>\n",
       "      <th>FUNCSTAT</th>\n",
       "      <th>ALAND</th>\n",
       "      <th>AWATER</th>\n",
       "      <th>INTPTLAT</th>\n",
       "      <th>INTPTLON</th>\n",
       "      <th>geometry</th>\n",
       "    </tr>\n",
       "  </thead>\n",
       "  <tbody>\n",
       "    <tr>\n",
       "      <th>0</th>\n",
       "      <td>31</td>\n",
       "      <td>039</td>\n",
       "      <td>00835841</td>\n",
       "      <td>31039</td>\n",
       "      <td>0500000US31039</td>\n",
       "      <td>Cuming</td>\n",
       "      <td>Cuming County</td>\n",
       "      <td>06</td>\n",
       "      <td>H1</td>\n",
       "      <td>G4020</td>\n",
       "      <td>None</td>\n",
       "      <td>None</td>\n",
       "      <td>None</td>\n",
       "      <td>A</td>\n",
       "      <td>1477563029</td>\n",
       "      <td>10772508</td>\n",
       "      <td>+41.9158651</td>\n",
       "      <td>-096.7885168</td>\n",
       "      <td>POLYGON ((-96.55515 41.91587, -96.55515 41.914...</td>\n",
       "    </tr>\n",
       "    <tr>\n",
       "      <th>1</th>\n",
       "      <td>53</td>\n",
       "      <td>069</td>\n",
       "      <td>01513275</td>\n",
       "      <td>53069</td>\n",
       "      <td>0500000US53069</td>\n",
       "      <td>Wahkiakum</td>\n",
       "      <td>Wahkiakum County</td>\n",
       "      <td>06</td>\n",
       "      <td>H1</td>\n",
       "      <td>G4020</td>\n",
       "      <td>None</td>\n",
       "      <td>None</td>\n",
       "      <td>None</td>\n",
       "      <td>A</td>\n",
       "      <td>680980771</td>\n",
       "      <td>61564427</td>\n",
       "      <td>+46.2946377</td>\n",
       "      <td>-123.4244583</td>\n",
       "      <td>POLYGON ((-123.72755 46.26449, -123.72755 46.2...</td>\n",
       "    </tr>\n",
       "    <tr>\n",
       "      <th>2</th>\n",
       "      <td>35</td>\n",
       "      <td>011</td>\n",
       "      <td>00933054</td>\n",
       "      <td>35011</td>\n",
       "      <td>0500000US35011</td>\n",
       "      <td>De Baca</td>\n",
       "      <td>De Baca County</td>\n",
       "      <td>06</td>\n",
       "      <td>H1</td>\n",
       "      <td>G4020</td>\n",
       "      <td>None</td>\n",
       "      <td>None</td>\n",
       "      <td>None</td>\n",
       "      <td>A</td>\n",
       "      <td>6016818946</td>\n",
       "      <td>29090018</td>\n",
       "      <td>+34.3592729</td>\n",
       "      <td>-104.3686961</td>\n",
       "      <td>POLYGON ((-104.89337 34.08894, -104.89337 34.0...</td>\n",
       "    </tr>\n",
       "    <tr>\n",
       "      <th>3</th>\n",
       "      <td>31</td>\n",
       "      <td>109</td>\n",
       "      <td>00835876</td>\n",
       "      <td>31109</td>\n",
       "      <td>0500000US31109</td>\n",
       "      <td>Lancaster</td>\n",
       "      <td>Lancaster County</td>\n",
       "      <td>06</td>\n",
       "      <td>H1</td>\n",
       "      <td>G4020</td>\n",
       "      <td>339</td>\n",
       "      <td>30700</td>\n",
       "      <td>None</td>\n",
       "      <td>A</td>\n",
       "      <td>2169269688</td>\n",
       "      <td>22850324</td>\n",
       "      <td>+40.7835474</td>\n",
       "      <td>-096.6886584</td>\n",
       "      <td>POLYGON ((-96.68493 40.52330, -96.69219 40.523...</td>\n",
       "    </tr>\n",
       "    <tr>\n",
       "      <th>4</th>\n",
       "      <td>31</td>\n",
       "      <td>129</td>\n",
       "      <td>00835886</td>\n",
       "      <td>31129</td>\n",
       "      <td>0500000US31129</td>\n",
       "      <td>Nuckolls</td>\n",
       "      <td>Nuckolls County</td>\n",
       "      <td>06</td>\n",
       "      <td>H1</td>\n",
       "      <td>G4020</td>\n",
       "      <td>None</td>\n",
       "      <td>None</td>\n",
       "      <td>None</td>\n",
       "      <td>A</td>\n",
       "      <td>1489645187</td>\n",
       "      <td>1718484</td>\n",
       "      <td>+40.1764918</td>\n",
       "      <td>-098.0468422</td>\n",
       "      <td>POLYGON ((-98.27370 40.11840, -98.27374 40.122...</td>\n",
       "    </tr>\n",
       "  </tbody>\n",
       "</table>\n",
       "</div>"
      ],
      "text/plain": [
       "  STATEFP COUNTYFP  COUNTYNS  GEOID         GEOIDFQ       NAME  \\\n",
       "0      31      039  00835841  31039  0500000US31039     Cuming   \n",
       "1      53      069  01513275  53069  0500000US53069  Wahkiakum   \n",
       "2      35      011  00933054  35011  0500000US35011    De Baca   \n",
       "3      31      109  00835876  31109  0500000US31109  Lancaster   \n",
       "4      31      129  00835886  31129  0500000US31129   Nuckolls   \n",
       "\n",
       "           NAMELSAD LSAD CLASSFP  MTFCC CSAFP CBSAFP METDIVFP FUNCSTAT  \\\n",
       "0     Cuming County   06      H1  G4020  None   None     None        A   \n",
       "1  Wahkiakum County   06      H1  G4020  None   None     None        A   \n",
       "2    De Baca County   06      H1  G4020  None   None     None        A   \n",
       "3  Lancaster County   06      H1  G4020   339  30700     None        A   \n",
       "4   Nuckolls County   06      H1  G4020  None   None     None        A   \n",
       "\n",
       "        ALAND    AWATER     INTPTLAT      INTPTLON  \\\n",
       "0  1477563029  10772508  +41.9158651  -096.7885168   \n",
       "1   680980771  61564427  +46.2946377  -123.4244583   \n",
       "2  6016818946  29090018  +34.3592729  -104.3686961   \n",
       "3  2169269688  22850324  +40.7835474  -096.6886584   \n",
       "4  1489645187   1718484  +40.1764918  -098.0468422   \n",
       "\n",
       "                                            geometry  \n",
       "0  POLYGON ((-96.55515 41.91587, -96.55515 41.914...  \n",
       "1  POLYGON ((-123.72755 46.26449, -123.72755 46.2...  \n",
       "2  POLYGON ((-104.89337 34.08894, -104.89337 34.0...  \n",
       "3  POLYGON ((-96.68493 40.52330, -96.69219 40.523...  \n",
       "4  POLYGON ((-98.27370 40.11840, -98.27374 40.122...  "
      ]
     },
     "execution_count": 16,
     "metadata": {},
     "output_type": "execute_result"
    }
   ],
   "source": [
    "# a.\n",
    "# Check the first 5 rows of the counties geodataframe\n",
    "counties.head()"
   ]
  },
  {
   "cell_type": "code",
   "execution_count": 17,
   "metadata": {},
   "outputs": [
    {
     "data": {
      "text/plain": [
       "STATEFP       object\n",
       "COUNTYFP      object\n",
       "COUNTYNS      object\n",
       "GEOID         object\n",
       "GEOIDFQ       object\n",
       "NAME          object\n",
       "NAMELSAD      object\n",
       "LSAD          object\n",
       "CLASSFP       object\n",
       "MTFCC         object\n",
       "CSAFP         object\n",
       "CBSAFP        object\n",
       "METDIVFP      object\n",
       "FUNCSTAT      object\n",
       "ALAND          int64\n",
       "AWATER         int64\n",
       "INTPTLAT      object\n",
       "INTPTLON      object\n",
       "geometry    geometry\n",
       "dtype: object"
      ]
     },
     "execution_count": 17,
     "metadata": {},
     "output_type": "execute_result"
    }
   ],
   "source": [
    "# b.\n",
    "# Check the types of the counties geodataframe\n",
    "counties.dtypes"
   ]
  },
  {
   "cell_type": "code",
   "execution_count": 18,
   "metadata": {},
   "outputs": [
    {
     "data": {
      "text/plain": [
       "<Geographic 2D CRS: EPSG:4269>\n",
       "Name: NAD83\n",
       "Axis Info [ellipsoidal]:\n",
       "- Lat[north]: Geodetic latitude (degree)\n",
       "- Lon[east]: Geodetic longitude (degree)\n",
       "Area of Use:\n",
       "- name: North America - onshore and offshore: Canada - Alberta; British Columbia; Manitoba; New Brunswick; Newfoundland and Labrador; Northwest Territories; Nova Scotia; Nunavut; Ontario; Prince Edward Island; Quebec; Saskatchewan; Yukon. Puerto Rico. United States (USA) - Alabama; Alaska; Arizona; Arkansas; California; Colorado; Connecticut; Delaware; Florida; Georgia; Hawaii; Idaho; Illinois; Indiana; Iowa; Kansas; Kentucky; Louisiana; Maine; Maryland; Massachusetts; Michigan; Minnesota; Mississippi; Missouri; Montana; Nebraska; Nevada; New Hampshire; New Jersey; New Mexico; New York; North Carolina; North Dakota; Ohio; Oklahoma; Oregon; Pennsylvania; Rhode Island; South Carolina; South Dakota; Tennessee; Texas; Utah; Vermont; Virginia; Washington; West Virginia; Wisconsin; Wyoming. US Virgin Islands. British Virgin Islands.\n",
       "- bounds: (167.65, 14.92, -40.73, 86.45)\n",
       "Datum: North American Datum 1983\n",
       "- Ellipsoid: GRS 1980\n",
       "- Prime Meridian: Greenwich"
      ]
     },
     "execution_count": 18,
     "metadata": {},
     "output_type": "execute_result"
    }
   ],
   "source": [
    "# c.\n",
    "# Check the CRS of counties\n",
    "counties.crs"
   ]
  },
  {
   "cell_type": "code",
   "execution_count": 19,
   "metadata": {},
   "outputs": [
    {
     "data": {
      "text/plain": [
       "<AxesSubplot:>"
      ]
     },
     "execution_count": 19,
     "metadata": {},
     "output_type": "execute_result"
    },
    {
     "data": {
      "image/png": "[encoded data removed]",
      "text/plain": [
       "<Figure size 640x480 with 1 Axes>"
      ]
     },
     "metadata": {},
     "output_type": "display_data"
    }
   ],
   "source": [
    "# d.\n",
    "# Plot the counties geodataframe\n",
    "counties.plot()"
   ]
  },
  {
   "cell_type": "code",
   "execution_count": 20,
   "metadata": {
    "tags": []
   },
   "outputs": [
    {
     "data": {
      "text/plain": [
       "STATEFP        0\n",
       "COUNTYFP       0\n",
       "COUNTYNS       0\n",
       "GEOID          0\n",
       "GEOIDFQ        0\n",
       "NAME           0\n",
       "NAMELSAD       0\n",
       "LSAD           0\n",
       "CLASSFP        0\n",
       "MTFCC          0\n",
       "CSAFP       1894\n",
       "CBSAFP      1320\n",
       "METDIVFP    3096\n",
       "FUNCSTAT       0\n",
       "ALAND          0\n",
       "AWATER         0\n",
       "INTPTLAT       0\n",
       "INTPTLON       0\n",
       "geometry       0\n",
       "dtype: int64"
      ]
     },
     "execution_count": 20,
     "metadata": {},
     "output_type": "execute_result"
    }
   ],
   "source": [
    "counties.isna().sum()"
   ]
  },
  {
   "cell_type": "markdown",
   "metadata": {
    "deletable": false,
    "editable": false
   },
   "source": [
    "<!-- BEGIN QUESTION -->\n",
    "\n",
    "f. Use the next markdown cell to explain what information you obtained from the preliminary exploration. Use complete sentences."
   ]
  },
  {
   "cell_type": "markdown",
   "metadata": {},
   "source": [
    "This preliminary exploration gave me information about the different variables in the counties geo-dataframe and what the type of each variable was. Everything was an object except the geometry. I also explored the NA count in each variable and saw that there is some missing data from CSAFP, CBASFP, and METDIVFP. I checked what our coordinate reference system was and made a preliminary visualization of the geometry data. "
   ]
  },
  {
   "cell_type": "markdown",
   "metadata": {
    "deletable": false,
    "editable": false
   },
   "source": [
    "*Your answer here.*"
   ]
  },
  {
   "cell_type": "markdown",
   "metadata": {
    "deletable": false,
    "editable": false
   },
   "source": [
    "<!-- END QUESTION -->\n",
    "\n",
    "### 6.B. Cleaning\n",
    "\n",
    "Simplify column names as needed."
   ]
  },
  {
   "cell_type": "code",
   "execution_count": 21,
   "metadata": {},
   "outputs": [
    {
     "data": {
      "text/plain": [
       "Index(['statefp', 'countyfp', 'countyns', 'geoid', 'geoidfq', 'name',\n",
       "       'namelsad', 'lsad', 'classfp', 'mtfcc', 'csafp', 'cbsafp', 'metdivfp',\n",
       "       'funcstat', 'aland', 'awater', 'intptlat', 'intptlon', 'geometry'],\n",
       "      dtype='object')"
      ]
     },
     "execution_count": 21,
     "metadata": {},
     "output_type": "execute_result"
    }
   ],
   "source": [
    "# Simplify column names of counties\n",
    "counties.columns = (counties.columns\n",
    "                  .str.lower()\n",
    "                  .str.replace(' ','_')\n",
    "                )\n",
    "counties.columns"
   ]
  },
  {
   "cell_type": "markdown",
   "metadata": {},
   "source": [
    "### 6.C. Data selection\n",
    "\n",
    "Select all the counties for the state of New York in a new variable `ny_counties` and plot them."
   ]
  },
  {
   "cell_type": "markdown",
   "metadata": {},
   "source": [
    "From the metadata, we know the the New York State FIPS code is 36"
   ]
  },
  {
   "cell_type": "code",
   "execution_count": 22,
   "metadata": {},
   "outputs": [
    {
     "data": {
      "text/plain": [
       "<AxesSubplot:>"
      ]
     },
     "execution_count": 22,
     "metadata": {},
     "output_type": "execute_result"
    },
    {
     "data": {
      "image/png": "[encoded data removed]",
      "text/plain": [
       "<Figure size 640x480 with 1 Axes>"
      ]
     },
     "metadata": {},
     "output_type": "display_data"
    }
   ],
   "source": [
    "# Filter to only New York counties and plot\n",
    "ny_counties = counties[counties['statefp'] == '36']\n",
    "ny_counties.plot()"
   ]
  },
  {
   "cell_type": "markdown",
   "metadata": {},
   "source": [
    "## 7 Merging\n",
    "\n",
    "The goal of this section is to create a single dataframe with the number of spills per county and the corresponding geometries for each county.\n",
    "\n",
    "### 7.A. Explore data\n",
    "\n",
    "In the next cells:\n",
    "\n",
    "a. Print the names of counties in `ny_counties`, without repetition.\n",
    "\n",
    "b. Print the names of counties in `spills_per_county`, without repetition. Examine the differences in the outputs.\n"
   ]
  },
  {
   "cell_type": "code",
   "execution_count": 23,
   "metadata": {},
   "outputs": [
    {
     "data": {
      "text/plain": [
       "array(['Steuben', 'Saratoga', 'Allegany', 'Oswego', 'Ulster',\n",
       "       'St. Lawrence', 'Schuyler', 'Essex', 'Suffolk', 'Hamilton',\n",
       "       'Dutchess', 'Otsego', 'Tompkins', 'Albany', 'Cayuga', 'Greene',\n",
       "       'Herkimer', 'Warren', 'Jefferson', 'Clinton', 'Nassau', 'Madison',\n",
       "       'Washington', 'Westchester', 'Lewis', 'Ontario', 'Cortland',\n",
       "       'Richmond', 'Erie', 'Putnam', 'Montgomery', 'Sullivan', 'Orleans',\n",
       "       'Oneida', 'Cattaraugus', 'Yates', 'Tioga', 'Monroe', 'Schoharie',\n",
       "       'Broome', 'Rensselaer', 'Seneca', 'Queens', 'Genesee', 'Wayne',\n",
       "       'Niagara', 'Kings', 'Chemung', 'Wyoming', 'New York', 'Columbia',\n",
       "       'Chautauqua', 'Franklin', 'Onondaga', 'Chenango', 'Fulton',\n",
       "       'Rockland', 'Livingston', 'Delaware', 'Orange', 'Schenectady',\n",
       "       'Bronx'], dtype=object)"
      ]
     },
     "execution_count": 23,
     "metadata": {},
     "output_type": "execute_result"
    }
   ],
   "source": [
    "# a.\n",
    "# Unique values of new york counties\n",
    "ny_counties['name'].unique()"
   ]
  },
  {
   "cell_type": "code",
   "execution_count": 24,
   "metadata": {},
   "outputs": [
    {
     "data": {
      "text/plain": [
       "array(['Albany', 'Allegany', 'Bronx', 'Broome', 'Canada - Region 5',\n",
       "       'Canada - Region 6', 'Canada - Region 8', 'Canada - Region 9',\n",
       "       'Cattaraugus', 'Cattaraugus Indian Reservation', 'Cayuga',\n",
       "       'Chautauqua', 'Chemung', 'Chenango', 'Clinton', 'Columbia',\n",
       "       'Connecticut - Region 1', 'Connecticut - Region 3 (N)',\n",
       "       'Connecticut - Region 3 (T)', 'Connecticut - Region 4', 'Cortland',\n",
       "       'Delaware', 'Dutchess', 'Erie', 'Essex', 'Franklin', 'Fulton',\n",
       "       'Genesee', 'Greene', 'Hamilton', 'Herkimer', 'Jefferson', 'Kings',\n",
       "       'Lewis', 'Livingston', 'Madison', 'Massachusetts - Region 4',\n",
       "       'Monroe', 'Montgomery', 'Nassau', 'New Jersey - Region 2',\n",
       "       'New Jersey - Region 3 (N)', 'New Jersey - Region 3 (T)',\n",
       "       'New York', 'Niagara', 'Oil Springs Indian Reservation', 'Oneida',\n",
       "       'Onondaga', 'Onondaga Indian Reservation', 'Ontario', 'Orange',\n",
       "       'Orleans', 'Oswego', 'Otsego', 'Pennsylvania - Region 3',\n",
       "       'Pennsylvania - Region 7', 'Pennsylvania - Region 8',\n",
       "       'Pennsylvania - Region 9', 'Poospatuck Indian Reservation',\n",
       "       'Putnam', 'Queens', 'Rensselaer', 'Richmond', 'Rockland',\n",
       "       'Saratoga', 'Schenectady', 'Schoharie', 'Schuyler', 'Seneca',\n",
       "       'Shinnecock Indian Reservation', 'St Lawrence',\n",
       "       'St. Regis Indian Reservation - Region 5', 'Steuben', 'Suffolk',\n",
       "       'Sullivan', 'Tioga', 'Tompkins', 'Tuscarora Indian Reservation',\n",
       "       'Ulster', 'Vermont - Region 4', 'Vermont - Region 5 (R)', 'Warren',\n",
       "       'Washington', 'Wayne', 'Westchester', 'Wyoming', 'Yates'],\n",
       "      dtype=object)"
      ]
     },
     "execution_count": 24,
     "metadata": {},
     "output_type": "execute_result"
    }
   ],
   "source": [
    "# b.\n",
    "# Unique counties from spills data frame\n",
    "spills_per_county['county'].unique()"
   ]
  },
  {
   "cell_type": "markdown",
   "metadata": {
    "deletable": false,
    "editable": false
   },
   "source": [
    "\n",
    "\n",
    "c. Which are the county names that are in `spills_per_county`, but not in `ny_counties`? Your answer should be a list of strings\n",
    "HINT: You can use the `numpy` function [`setdiff1d()`](https://numpy.org/doc/stable/reference/generated/numpy.setdiff1d.html), pay attention to the example in the documentation. Store your answer in the `diff_names` variable. \n",
    "\n"
   ]
  },
  {
   "cell_type": "code",
   "execution_count": 25,
   "metadata": {
    "tags": []
   },
   "outputs": [
    {
     "data": {
      "text/plain": [
       "array(['Canada - Region 5', 'Canada - Region 6', 'Canada - Region 8',\n",
       "       'Canada - Region 9', 'Cattaraugus Indian Reservation',\n",
       "       'Connecticut - Region 1', 'Connecticut - Region 3 (N)',\n",
       "       'Connecticut - Region 3 (T)', 'Connecticut - Region 4',\n",
       "       'Massachusetts - Region 4', 'New Jersey - Region 2',\n",
       "       'New Jersey - Region 3 (N)', 'New Jersey - Region 3 (T)',\n",
       "       'Oil Springs Indian Reservation', 'Onondaga Indian Reservation',\n",
       "       'Pennsylvania - Region 3', 'Pennsylvania - Region 7',\n",
       "       'Pennsylvania - Region 8', 'Pennsylvania - Region 9',\n",
       "       'Poospatuck Indian Reservation', 'Shinnecock Indian Reservation',\n",
       "       'St Lawrence', 'St. Regis Indian Reservation - Region 5',\n",
       "       'Tuscarora Indian Reservation', 'Vermont - Region 4',\n",
       "       'Vermont - Region 5 (R)'], dtype=object)"
      ]
     },
     "execution_count": 25,
     "metadata": {},
     "output_type": "execute_result"
    }
   ],
   "source": [
    "# Find counties in spills df that aren't in counties df\n",
    "diff_names_spills = np.setdiff1d(spills_per_county['county'], ny_counties['name'])\n",
    "diff_names_spills"
   ]
  },
  {
   "cell_type": "markdown",
   "metadata": {
    "deletable": false,
    "editable": false
   },
   "source": [
    "\n",
    "d. Which are the county names that are in `ny_counties`, but not in `spills_per_county`? Your answer should be a list of strings.\n"
   ]
  },
  {
   "cell_type": "code",
   "execution_count": 26,
   "metadata": {
    "tags": []
   },
   "outputs": [
    {
     "data": {
      "text/plain": [
       "array(['St. Lawrence'], dtype=object)"
      ]
     },
     "execution_count": 26,
     "metadata": {},
     "output_type": "execute_result"
    }
   ],
   "source": [
    "# Find counties in counties df that aren't in spills df\n",
    "diff_names_ny = np.setdiff1d(ny_counties['name'], spills_per_county['county'])\n",
    "diff_names_ny"
   ]
  },
  {
   "cell_type": "markdown",
   "metadata": {},
   "source": [
    "\n",
    "\n",
    "\n",
    "e. What is the number of spills in 'Tuscarora Indian Reservation'?\n"
   ]
  },
  {
   "cell_type": "code",
   "execution_count": 27,
   "metadata": {},
   "outputs": [
    {
     "data": {
      "text/html": [
       "<div>\n",
       "<style scoped>\n",
       "    .dataframe tbody tr th:only-of-type {\n",
       "        vertical-align: middle;\n",
       "    }\n",
       "\n",
       "    .dataframe tbody tr th {\n",
       "        vertical-align: top;\n",
       "    }\n",
       "\n",
       "    .dataframe thead th {\n",
       "        text-align: right;\n",
       "    }\n",
       "</style>\n",
       "<table border=\"1\" class=\"dataframe\">\n",
       "  <thead>\n",
       "    <tr style=\"text-align: right;\">\n",
       "      <th></th>\n",
       "      <th>county</th>\n",
       "      <th>n_spills</th>\n",
       "    </tr>\n",
       "  </thead>\n",
       "  <tbody>\n",
       "    <tr>\n",
       "      <th>77</th>\n",
       "      <td>Tuscarora Indian Reservation</td>\n",
       "      <td>5</td>\n",
       "    </tr>\n",
       "  </tbody>\n",
       "</table>\n",
       "</div>"
      ],
      "text/plain": [
       "                          county  n_spills\n",
       "77  Tuscarora Indian Reservation         5"
      ]
     },
     "execution_count": 27,
     "metadata": {},
     "output_type": "execute_result"
    }
   ],
   "source": [
    "# e. \n",
    "# Number of spills at Tuscarora Indian Reservation\n",
    "spills_per_county.loc[spills_per_county['county'] == 'Tuscarora Indian Reservation', :]"
   ]
  },
  {
   "cell_type": "markdown",
   "metadata": {},
   "source": [
    "### 7.B. Data updates\n",
    "\n",
    "In the next cell, update 'St Lawrence' to 'St. Lawrence' in `spills_per_county` data frame and use an `assert` statement to verify that the update was successful.\n",
    "\n",
    "You may add cells if needed."
   ]
  },
  {
   "cell_type": "code",
   "execution_count": 28,
   "metadata": {
    "tags": []
   },
   "outputs": [
    {
     "data": {
      "text/html": [
       "<div>\n",
       "<style scoped>\n",
       "    .dataframe tbody tr th:only-of-type {\n",
       "        vertical-align: middle;\n",
       "    }\n",
       "\n",
       "    .dataframe tbody tr th {\n",
       "        vertical-align: top;\n",
       "    }\n",
       "\n",
       "    .dataframe thead th {\n",
       "        text-align: right;\n",
       "    }\n",
       "</style>\n",
       "<table border=\"1\" class=\"dataframe\">\n",
       "  <thead>\n",
       "    <tr style=\"text-align: right;\">\n",
       "      <th></th>\n",
       "      <th>county</th>\n",
       "      <th>n_spills</th>\n",
       "    </tr>\n",
       "  </thead>\n",
       "  <tbody>\n",
       "    <tr>\n",
       "      <th>70</th>\n",
       "      <td>St Lawrence</td>\n",
       "      <td>6531</td>\n",
       "    </tr>\n",
       "  </tbody>\n",
       "</table>\n",
       "</div>"
      ],
      "text/plain": [
       "         county  n_spills\n",
       "70  St Lawrence      6531"
      ]
     },
     "execution_count": 28,
     "metadata": {},
     "output_type": "execute_result"
    }
   ],
   "source": [
    "# Find the  location of St Lawrence in the data frame\n",
    "spills_per_county.loc[spills_per_county['county'] == 'St Lawrence', :]"
   ]
  },
  {
   "cell_type": "code",
   "execution_count": 29,
   "metadata": {},
   "outputs": [],
   "source": [
    "# Fix name of the St. Lawrence county\n",
    "spills_per_county.at[70, 'county'] = 'St. Lawrence'"
   ]
  },
  {
   "cell_type": "code",
   "execution_count": 30,
   "metadata": {
    "tags": []
   },
   "outputs": [],
   "source": [
    "# Check that the name was updated\n",
    "assert spills_per_county.at[70, 'county'] == 'St. Lawrence'"
   ]
  },
  {
   "cell_type": "markdown",
   "metadata": {},
   "source": [
    "### 7.C. Merge\n",
    "\n",
    "In the following cells:\n",
    "\n",
    "a. Use this cell to make any other updates needed for making an inner join of the `spills_per_county` and `ny_counties`. \n",
    "\n",
    "b. Over-write `ny_counties` as the  inner join of the `spills_per_county` and `ny_counties` dataframes.\n"
   ]
  },
  {
   "cell_type": "code",
   "execution_count": 31,
   "metadata": {},
   "outputs": [],
   "source": [
    "# a.\n",
    "# Prepare dataframes to join\n",
    "ny_counties = ny_counties.rename(columns={'name':'county'})"
   ]
  },
  {
   "cell_type": "code",
   "execution_count": 32,
   "metadata": {},
   "outputs": [],
   "source": [
    "# b. \n",
    "# Inner join counties and spills dataframes\n",
    "ny_counties = pd.merge(spills_per_county, ny_counties, on='county', how='inner')"
   ]
  },
  {
   "cell_type": "markdown",
   "metadata": {},
   "source": [
    "\n",
    "From our previous exploration we know that Tuscarora Indian Reservation will not be in the join. Tuscarora Indian Reservation is located within Niagara county. \n",
    "\n",
    "c. Since the Tuscarora Indian Reservation does not appear in the `ny_counties` dataframe, add one spill to Niagara county. Add the cells you need to make this update **and** verify that the dataframe was updated."
   ]
  },
  {
   "cell_type": "code",
   "execution_count": 33,
   "metadata": {
    "tags": []
   },
   "outputs": [
    {
     "data": {
      "text/html": [
       "<div>\n",
       "<style scoped>\n",
       "    .dataframe tbody tr th:only-of-type {\n",
       "        vertical-align: middle;\n",
       "    }\n",
       "\n",
       "    .dataframe tbody tr th {\n",
       "        vertical-align: top;\n",
       "    }\n",
       "\n",
       "    .dataframe thead th {\n",
       "        text-align: right;\n",
       "    }\n",
       "</style>\n",
       "<table border=\"1\" class=\"dataframe\">\n",
       "  <thead>\n",
       "    <tr style=\"text-align: right;\">\n",
       "      <th></th>\n",
       "      <th>county</th>\n",
       "      <th>n_spills</th>\n",
       "      <th>statefp</th>\n",
       "      <th>countyfp</th>\n",
       "      <th>countyns</th>\n",
       "      <th>geoid</th>\n",
       "      <th>geoidfq</th>\n",
       "      <th>namelsad</th>\n",
       "      <th>lsad</th>\n",
       "      <th>classfp</th>\n",
       "      <th>mtfcc</th>\n",
       "      <th>csafp</th>\n",
       "      <th>cbsafp</th>\n",
       "      <th>metdivfp</th>\n",
       "      <th>funcstat</th>\n",
       "      <th>aland</th>\n",
       "      <th>awater</th>\n",
       "      <th>intptlat</th>\n",
       "      <th>intptlon</th>\n",
       "      <th>geometry</th>\n",
       "    </tr>\n",
       "  </thead>\n",
       "  <tbody>\n",
       "    <tr>\n",
       "      <th>31</th>\n",
       "      <td>Niagara</td>\n",
       "      <td>8052</td>\n",
       "      <td>36</td>\n",
       "      <td>063</td>\n",
       "      <td>00974130</td>\n",
       "      <td>36063</td>\n",
       "      <td>0500000US36063</td>\n",
       "      <td>Niagara County</td>\n",
       "      <td>06</td>\n",
       "      <td>H1</td>\n",
       "      <td>G4020</td>\n",
       "      <td>160</td>\n",
       "      <td>15380</td>\n",
       "      <td>None</td>\n",
       "      <td>A</td>\n",
       "      <td>1352876140</td>\n",
       "      <td>1598772310</td>\n",
       "      <td>+43.2726719</td>\n",
       "      <td>-078.8129431</td>\n",
       "      <td>POLYGON ((-78.49165 43.08396, -78.49179 43.084...</td>\n",
       "    </tr>\n",
       "  </tbody>\n",
       "</table>\n",
       "</div>"
      ],
      "text/plain": [
       "     county  n_spills statefp countyfp  countyns  geoid         geoidfq  \\\n",
       "31  Niagara      8052      36      063  00974130  36063  0500000US36063   \n",
       "\n",
       "          namelsad lsad classfp  mtfcc csafp cbsafp metdivfp funcstat  \\\n",
       "31  Niagara County   06      H1  G4020   160  15380     None        A   \n",
       "\n",
       "         aland      awater     intptlat      intptlon  \\\n",
       "31  1352876140  1598772310  +43.2726719  -078.8129431   \n",
       "\n",
       "                                             geometry  \n",
       "31  POLYGON ((-78.49165 43.08396, -78.49179 43.084...  "
      ]
     },
     "execution_count": 33,
     "metadata": {},
     "output_type": "execute_result"
    }
   ],
   "source": [
    "# c.\n",
    "# Find the location of Niagara in the data frame\n",
    "ny_counties.loc[ny_counties['county'] == 'Niagara', :]"
   ]
  },
  {
   "cell_type": "code",
   "execution_count": 34,
   "metadata": {
    "tags": []
   },
   "outputs": [],
   "source": [
    "# Update the value to include the 5 spills from TIR\n",
    "ny_counties.at[31, 'n_spills'] = (ny_counties.at[31, 'n_spills'] + 5)"
   ]
  },
  {
   "cell_type": "code",
   "execution_count": 35,
   "metadata": {
    "tags": []
   },
   "outputs": [],
   "source": [
    "# Check that the value was correctly updated\n",
    "assert ny_counties.at[31, 'n_spills'] == 8057"
   ]
  },
  {
   "cell_type": "markdown",
   "metadata": {
    "deletable": false,
    "editable": false
   },
   "source": [
    "<!-- BEGIN QUESTION -->\n",
    "\n",
    "## 8. Map\n",
    "a. Create a choropleth map of the number of petroleum spills per county in the state of New York in 2023. \n",
    "Your map should be polished and have (at least) the following updates:\n",
    "- a legend indicating the number of spills\n",
    "- an updated color map\n",
    "- a title \n",
    "- no axis\n",
    "- an [annotation](https://matplotlib.org/stable/api/_as_gen/matplotlib.pyplot.annotate.html) with the data source (New York State Department of Environmental Conservation) and date of access.\n",
    "\n"
   ]
  },
  {
   "cell_type": "code",
   "execution_count": 36,
   "metadata": {
    "tags": []
   },
   "outputs": [],
   "source": [
    "ny_counties.columns\n",
    "ny_counties = gpd.GeoDataFrame(ny_counties)"
   ]
  },
  {
   "cell_type": "markdown",
   "metadata": {},
   "source": [
    "Might need to use geoplot for the chloropleth map?"
   ]
  },
  {
   "cell_type": "code",
   "execution_count": 37,
   "metadata": {
    "tags": []
   },
   "outputs": [
    {
     "data": {
      "image/png": "[encoded data removed]",
      "text/plain": [
       "<Figure size 900x500 with 1 Axes>"
      ]
     },
     "metadata": {},
     "output_type": "display_data"
    }
   ],
   "source": [
    "# a.\n",
    "fig, ax = plt.subplots(figsize=(9,5))\n",
    "\n",
    "# Remove axis for a cleaner map\n",
    "ax.axis('off')\n",
    "\n",
    "ax.set_title('Petroleum spills per county in New York State in 2023', fontsize=14)\n",
    "\n",
    "ny_counties.plot(ax=ax)\n",
    "\n",
    "# Add spills per county colored by energy course\n",
    "# ny_counties['n_spills'].plot(ax=ax) \n",
    "                  # column='primsource', # color by values in this column\n",
    "                  # legend=True,\n",
    "                  # markersize=4,\n",
    "                  # cmap='tab20',\n",
    "                  # alpha=0.5,\n",
    "                  # legend_kwds={\n",
    "                      # 'title':'Primary energy course',\n",
    "                      # 'title_fontsize':'small',\n",
    "                      # 'ncol':6, # sets number of columns, makes it horizontal\n",
    "                      # 'loc':'upper left',\n",
    "                      # 'bbox_to_anchor':(0,0)\n",
    "                      # }\n",
    "                      #)\n",
    "\n",
    "\n",
    "plt.show()"
   ]
  },
  {
   "cell_type": "markdown",
   "metadata": {
    "deletable": false,
    "editable": false
   },
   "source": [
    "<!-- END QUESTION -->\n",
    "\n",
    "<!-- BEGIN QUESTION -->\n",
    "\n",
    "b. Write a figure description for the map, including tha names of the top 3 counties with the most petroleum spills. If you need to do additional data analysis to include relevant information from the data, you may include additional code cells here."
   ]
  },
  {
   "cell_type": "markdown",
   "metadata": {},
   "source": [
    "*Your answer here*"
   ]
  }
 ],
 "metadata": {
  "kernelspec": {
   "display_name": "Anaconda 3 (Base)",
   "language": "python",
   "name": "base"
  },
  "language_info": {
   "codemirror_mode": {
    "name": "ipython",
    "version": 3
   },
   "file_extension": ".py",
   "mimetype": "text/x-python",
   "name": "python",
   "nbconvert_exporter": "python",
   "pygments_lexer": "ipython3",
   "version": "3.9.13"
  },
  "vscode": {
   "interpreter": {
    "hash": "0f97f47f74ab0b040131b6681dd542ab9cd7e1dcd971bc09e899dabc517362fa"
   }
  }
 },
 "nbformat": 4,
 "nbformat_minor": 4
}
